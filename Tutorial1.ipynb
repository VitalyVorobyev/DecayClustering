{
 "cells": [
  {
   "cell_type": "markdown",
   "metadata": {},
   "source": [
    "# Visualization and clasterization of B meson decays\n",
    "A set of tools for visulalization and clustering of B decays is described in this notebook.Clustering is performed with k means algorithm."
   ]
  },
  {
   "cell_type": "code",
   "execution_count": null,
   "metadata": {
    "collapsed": false
   },
   "outputs": [],
   "source": [
    "import decay_tree_tools as dtt\n",
    "import kmeans_tools     as kmt\n",
    "import ROOT             as r\n",
    "import numpy            as np"
   ]
  },
  {
   "cell_type": "markdown",
   "metadata": {},
   "source": [
    "Open TTree using PyROOT binding of the ROOT framework"
   ]
  },
  {
   "cell_type": "code",
   "execution_count": null,
   "metadata": {
    "collapsed": false
   },
   "outputs": [],
   "source": [
    "filename = \"test_tree.root\"\n",
    "rfile  = r.TFile(filename)\n",
    "intree = rfile.Get('TEvent')\n",
    "intree.GetEntries()"
   ]
  },
  {
   "cell_type": "markdown",
   "metadata": {},
   "source": [
    "It is assumed that TTree contains branches gen_idhep, gen_daF and gen_daL containing arrays of inetegers. The gen_idhep array contains EvtGen MC codes of generated particles, the gen_daF and gen_daL arrays contain, correspondingly, indices of the first and last descendants.  These arrays can be obtained with get_gen_table functions from decay_tree_tools.\n",
    "\n",
    "Arguments of the get_gen_table functions are:\n",
    "* tree: TTree\n",
    "* evt: index of the queried event"
   ]
  },
  {
   "cell_type": "code",
   "execution_count": null,
   "metadata": {
    "collapsed": false
   },
   "outputs": [],
   "source": [
    "evtn = 6000\n",
    "idhep, daF, daL = dtt.gen_table(intree,evtn)\n",
    "for i in xrange(10):\n",
    "    print(\" \".join([str(idhep[i]).rjust(7),str(daF[i]).rjust(3),str(daL[i]).rjust(3)]))"
   ]
  },
  {
   "cell_type": "markdown",
   "metadata": {},
   "source": [
    "Function get_full_gv_decay_tree recieves the same arguments and retrievs the graphviz graph corresponding to the full decay tree of the queried event. The decay tree graph can be shown inline in this notebook"
   ]
  },
  {
   "cell_type": "code",
   "execution_count": null,
   "metadata": {
    "collapsed": false
   },
   "outputs": [],
   "source": [
    "decay_tree = dtt.full_gv_decay_tree(intree,evtn)\n",
    "decay_tree"
   ]
  },
  {
   "cell_type": "markdown",
   "metadata": {
    "collapsed": false
   },
   "source": [
    "One can render and save .gv and .pdf files with the following line"
   ]
  },
  {
   "cell_type": "code",
   "execution_count": null,
   "metadata": {
    "collapsed": true
   },
   "outputs": [],
   "source": [
    "#decay_tree.render('test-output/decaytree.gv', view=True)"
   ]
  },
  {
   "cell_type": "markdown",
   "metadata": {},
   "source": [
    "Get graphs for all B meson decays in the queried event"
   ]
  },
  {
   "cell_type": "code",
   "execution_count": null,
   "metadata": {
    "collapsed": false
   },
   "outputs": [],
   "source": [
    "decay_tree_b = dtt.b_meson_gv_decay_trees(intree,evtn)\n",
    "len(decay_tree_b)"
   ]
  },
  {
   "cell_type": "markdown",
   "metadata": {},
   "source": [
    "Two graphs are obtained. Let's take a look on them"
   ]
  },
  {
   "cell_type": "code",
   "execution_count": null,
   "metadata": {
    "collapsed": false
   },
   "outputs": [],
   "source": [
    "decay_tree_b[0]"
   ]
  },
  {
   "cell_type": "code",
   "execution_count": null,
   "metadata": {
    "collapsed": false
   },
   "outputs": [],
   "source": [
    "decay_tree_b[1]"
   ]
  },
  {
   "cell_type": "markdown",
   "metadata": {},
   "source": [
    "Let's look at the decay tree representation adobted for k means algorithm"
   ]
  },
  {
   "cell_type": "code",
   "execution_count": null,
   "metadata": {
    "collapsed": false
   },
   "outputs": [],
   "source": [
    "codes = kmt.b_decay_codes(intree,evtn)\n",
    "len(codes)"
   ]
  },
  {
   "cell_type": "code",
   "execution_count": null,
   "metadata": {
    "collapsed": false
   },
   "outputs": [],
   "source": [
    "len(codes[0])"
   ]
  },
  {
   "cell_type": "code",
   "execution_count": null,
   "metadata": {
    "collapsed": false
   },
   "outputs": [],
   "source": [
    "len(codes[1])"
   ]
  },
  {
   "cell_type": "markdown",
   "metadata": {},
   "source": [
    "Sparse matrix from TTree. Each row of the matrix corresponds to a B meson decay chain"
   ]
  },
  {
   "cell_type": "code",
   "execution_count": null,
   "metadata": {
    "collapsed": false
   },
   "outputs": [],
   "source": [
    "matrix = kmt.tree_to_csr_matrix(intree)"
   ]
  },
  {
   "cell_type": "markdown",
   "metadata": {},
   "source": [
    "Number of rows of the martix is two times larger than events in the TTree"
   ]
  },
  {
   "cell_type": "code",
   "execution_count": null,
   "metadata": {
    "collapsed": false
   },
   "outputs": [],
   "source": [
    "matrix.shape"
   ]
  },
  {
   "cell_type": "markdown",
   "metadata": {},
   "source": [
    "Obtaining the sparse matrix is the most computationally intensive part of the procedure. One can do it once and then save the result in .npz file for multiple recalls in future"
   ]
  },
  {
   "cell_type": "code",
   "execution_count": null,
   "metadata": {
    "collapsed": true
   },
   "outputs": [],
   "source": [
    "kmt.save_sparse_csr(\"test_sparse_matrix\",matrix)"
   ]
  },
  {
   "cell_type": "code",
   "execution_count": null,
   "metadata": {
    "collapsed": true
   },
   "outputs": [],
   "source": [
    "mtx = kmt.load_sparse_csr(\"test_sparse_matrix.npz\")"
   ]
  },
  {
   "cell_type": "markdown",
   "metadata": {},
   "source": [
    "mtx contains the same object as matrix"
   ]
  },
  {
   "cell_type": "code",
   "execution_count": null,
   "metadata": {
    "collapsed": false
   },
   "outputs": [],
   "source": [
    "mtx.shape"
   ]
  },
  {
   "cell_type": "markdown",
   "metadata": {},
   "source": [
    "Let's run the k means clustering algorithm"
   ]
  },
  {
   "cell_type": "code",
   "execution_count": null,
   "metadata": {
    "collapsed": false
   },
   "outputs": [],
   "source": [
    "k = 30\n",
    "maxiter = 500\n",
    "heterogeneity = []\n",
    "centroids = kmt.get_kpp_centroids(mtx,k)\n",
    "centroids, cluster_assignment = kmt.kmeans(mtx,k,centroids,maxiter,record_heterogeneity=heterogeneity,verbose=True)"
   ]
  },
  {
   "cell_type": "markdown",
   "metadata": {},
   "source": [
    "List of the heterogeneity values for each k means iteration is stored in heterogeneity. We can draw it in the following way"
   ]
  },
  {
   "cell_type": "code",
   "execution_count": null,
   "metadata": {
    "collapsed": false
   },
   "outputs": [],
   "source": [
    "%matplotlib inline\n",
    "kmt.plot_heterogeneity(heterogeneity, k)"
   ]
  },
  {
   "cell_type": "code",
   "execution_count": null,
   "metadata": {
    "collapsed": false
   },
   "outputs": [],
   "source": [
    "print(\"k = %d, h = %f\" % (k,heterogeneity[-1]))"
   ]
  },
  {
   "cell_type": "markdown",
   "metadata": {},
   "source": [
    "One can explore the obtained clusters. Let's print the list of events number in the cluster sorted in decreasing order."
   ]
  },
  {
   "cell_type": "code",
   "execution_count": null,
   "metadata": {
    "collapsed": false
   },
   "outputs": [],
   "source": [
    "print(sorted(np.bincount(cluster_assignment))[::-1])"
   ]
  },
  {
   "cell_type": "markdown",
   "metadata": {},
   "source": [
    "And save 1 nearest to the centroid decay tree graph in .pdf file. Graphs for the 8 most populated clusters will be shown in your system pdf files reader"
   ]
  },
  {
   "cell_type": "code",
   "execution_count": null,
   "metadata": {
    "collapsed": false
   },
   "outputs": [],
   "source": [
    "gvts = {}\n",
    "kmt.visualize_clusters(intree, mtx, centroids, cluster_assignment, k, ntrees_to_save=1, collect_gvt = gvts)"
   ]
  }
 ],
 "metadata": {
  "kernelspec": {
   "display_name": "Python 2",
   "language": "python",
   "name": "python2"
  },
  "language_info": {
   "codemirror_mode": {
    "name": "ipython",
    "version": 2
   },
   "file_extension": ".py",
   "mimetype": "text/x-python",
   "name": "python",
   "nbconvert_exporter": "python",
   "pygments_lexer": "ipython2",
   "version": "2.7.11"
  }
 },
 "nbformat": 4,
 "nbformat_minor": 0
}
